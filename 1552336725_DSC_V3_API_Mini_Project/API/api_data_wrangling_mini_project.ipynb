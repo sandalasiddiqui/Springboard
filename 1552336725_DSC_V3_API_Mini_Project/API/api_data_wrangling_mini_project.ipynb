{
 "cells": [
  {
   "cell_type": "markdown",
   "metadata": {},
   "source": [
    "This exercise will require you to pull some data from the Qunadl API. Qaundl is currently the most widely used aggregator of financial market data."
   ]
  },
  {
   "cell_type": "markdown",
   "metadata": {},
   "source": [
    "As a first step, you will need to register a free account on the http://www.quandl.com website."
   ]
  },
  {
   "cell_type": "markdown",
   "metadata": {},
   "source": [
    "After you register, you will be provided with a unique API key, that you should store:"
   ]
  },
  {
   "cell_type": "code",
   "execution_count": 1,
   "metadata": {},
   "outputs": [],
   "source": [
    "# Store the API key as a string - according to PEP8, constants are always named in all upper case\n",
    "API_KEY = '1-GyJJiyXetp4mZFa3VE'"
   ]
  },
  {
   "cell_type": "markdown",
   "metadata": {},
   "source": [
    "Qaundl has a large number of data sources, but, unfortunately, most of them require a Premium subscription. Still, there are also a good number of free datasets."
   ]
  },
  {
   "cell_type": "markdown",
   "metadata": {},
   "source": [
    "For this mini project, we will focus on equities data from the Frankfurt Stock Exhange (FSE), which is available for free. We'll try and analyze the stock prices of a company called Carl Zeiss Meditec, which manufactures tools for eye examinations, as well as medical lasers for laser eye surgery: https://www.zeiss.com/meditec/int/home.html. The company is listed under the stock ticker AFX_X."
   ]
  },
  {
   "cell_type": "markdown",
   "metadata": {},
   "source": [
    "You can find the detailed Quandl API instructions here: https://docs.quandl.com/docs/time-series"
   ]
  },
  {
   "cell_type": "markdown",
   "metadata": {},
   "source": [
    "While there is a dedicated Python package for connecting to the Quandl API, we would prefer that you use the *requests* package, which can be easily downloaded using *pip* or *conda*. You can find the documentation for the package here: http://docs.python-requests.org/en/master/ "
   ]
  },
  {
   "cell_type": "markdown",
   "metadata": {},
   "source": [
    "Finally, apart from the *requests* package, you are encouraged to not use any third party Python packages, such as *pandas*, and instead focus on what's available in the Python Standard Library (the *collections* module might come in handy: https://pymotw.com/3/collections/ ).\n",
    "Also, since you won't have access to DataFrames, you are encouraged to us Python's native data structures - preferably dictionaries, though some questions can also be answered using lists.\n",
    "You can read more on these data structures here: https://docs.python.org/3/tutorial/datastructures.html"
   ]
  },
  {
   "cell_type": "markdown",
   "metadata": {},
   "source": [
    "Keep in mind that the JSON responses you will be getting from the API map almost one-to-one to Python's dictionaries. Unfortunately, they can be very nested, so make sure you read up on indexing dictionaries in the documentation provided above."
   ]
  },
  {
   "cell_type": "code",
   "execution_count": 2,
   "metadata": {},
   "outputs": [],
   "source": [
    "# First, import the relevant modules\n",
    "import requests\n",
    "import json"
   ]
  },
  {
   "cell_type": "code",
   "execution_count": 3,
   "metadata": {},
   "outputs": [],
   "source": [
    "# Now, call the Quandl API and pull out a small sample of the data (only one day) to get a glimpse\n",
    "# into the JSON structure that will be returned\n",
    "url = \"https://www.quandl.com/api/v3/datasets/FSE/AFX_X/data.json\"\n",
    "params = {'api_key':API_KEY, 'limit':1}\n",
    "r = requests.get(url=url, params=params)"
   ]
  },
  {
   "cell_type": "code",
   "execution_count": 4,
   "metadata": {},
   "outputs": [
    {
     "name": "stdout",
     "output_type": "stream",
     "text": [
      "{'dataset_data': {'limit': 1, 'transform': None, 'column_index': None, 'column_names': ['Date', 'Open', 'High', 'Low', 'Close', 'Change', 'Traded Volume', 'Turnover', 'Last Price of the Day', 'Daily Traded Units', 'Daily Turnover'], 'start_date': '2000-06-07', 'end_date': '2020-09-03', 'frequency': 'daily', 'data': [['2020-09-03', 98.8, 99.5, 94.25, 94.4, None, 116565.0, 11274451.9, None, None, None]], 'collapse': None, 'order': None}}\n"
     ]
    }
   ],
   "source": [
    "# Inspect the JSON structure of the object you created, and take note of how nested it is,\n",
    "# as well as the overall structure\n",
    "json_data = r.json()\n",
    "print(json_data)"
   ]
  },
  {
   "cell_type": "markdown",
   "metadata": {},
   "source": [
    "These are your tasks for this mini project:\n",
    "\n",
    "1. Collect data from the Franfurt Stock Exchange, for the ticker AFX_X, for the whole year 2017 (keep in mind that the date format is YYYY-MM-DD).\n",
    "2. Convert the returned JSON object into a Python dictionary.\n",
    "3. Calculate what the highest and lowest opening prices were for the stock in this period.\n",
    "4. What was the largest change in any one day (based on High and Low price)?\n",
    "5. What was the largest change between any two days (based on Closing Price)?\n",
    "6. What was the average daily trading volume during this year?\n",
    "7. (Optional) What was the median trading volume during this year. (Note: you may need to implement your own function for calculating the median.)"
   ]
  },
  {
   "cell_type": "markdown",
   "metadata": {},
   "source": [
    "**1. Collect data from the Franfurt Stock Exchange, for the ticker AFX_X, for the whole year 2017 (keep in mind that the date format is YYYY-MM-DD).**\n",
    "We start by collecting AFX_X data for the year 2017. We do this by passing appropriate parameters."
   ]
  },
  {
   "cell_type": "code",
   "execution_count": 5,
   "metadata": {},
   "outputs": [],
   "source": [
    "params_2017 = {'api_key':API_KEY, 'start_date':'2017-01-01', 'end_date':'2017-12-01'}\n",
    "r_2017 = requests.get(url=url, params=params_2017)"
   ]
  },
  {
   "cell_type": "markdown",
   "metadata": {},
   "source": [
    "**2. Convert the returned JSON object into a Python dictionary.**"
   ]
  },
  {
   "cell_type": "code",
   "execution_count": 6,
   "metadata": {},
   "outputs": [],
   "source": [
    "json_data_2017 = r_2017.json()"
   ]
  },
  {
   "cell_type": "markdown",
   "metadata": {},
   "source": [
    "**3. Calculate what the highest and lowest opening prices were for the stock in this period.**\n",
    "Let's extract the datapoints from this in the form of a matrix and calculating the length of each list within the matrix."
   ]
  },
  {
   "cell_type": "code",
   "execution_count": 7,
   "metadata": {},
   "outputs": [
    {
     "name": "stdout",
     "output_type": "stream",
     "text": [
      "[['2017-12-01', 49.52, 50.49, 49.17, 49.86, None, 101733.0, 5065932.0, None, None, None], ['2017-11-30', 48.64, 49.84, 48.28, 49.7, None, 123019.0, 6085171.0, None, None, None], ['2017-11-29', 49.64, 49.64, 48.7, 48.75, None, 67342.0, 3292223.0, None, None, None], ['2017-11-28', 49.09, 49.89, 49.03, 49.25, None, 42669.0, 2107358.0, None, None, None], ['2017-11-27', 49.13, 49.73, 48.96, 49.2, None, 102180.0, 5055762.0, None, None, None]]\n",
      "11\n"
     ]
    }
   ],
   "source": [
    "matrix = json_data_2017['dataset_data']['data']\n",
    "length = len(matrix[0])\n",
    "print(matrix[:5])\n",
    "print(length)"
   ]
  },
  {
   "cell_type": "markdown",
   "metadata": {},
   "source": [
    "We see that each list has 11 items. The entries and their indexes in each list that we want to investigate are:\n",
    "   - Open: 1\n",
    "   - High: 2\n",
    "   - Low: 3\n",
    "   - Close: 4\n",
    "   - Traded Volume: 6\n"
   ]
  },
  {
   "cell_type": "code",
   "execution_count": 8,
   "metadata": {},
   "outputs": [
    {
     "name": "stdout",
     "output_type": "stream",
     "text": [
      "[49.52, 48.64, 49.64, 49.09, 49.13, 49.11, 48.8, 48.4, 47.25, 46.57, 47.03, 47.09, 47.98, 48.4, 48.38, 47.3, 47.65, 46.42, 46.16, 45.81, 45.0, 45.88, 46.29, 46.53, 45.48, 45.2, 45.01, 45.16, 44.9, 45.08, 45.72, 46.01, 45.8, 45.61, 45.5, 45.58, 45.97, 45.64, 46.2, 46.19, 46.01, 45.36, 44.51, 43.58, 42.0, 42.35, 42.3, 42.3, 41.48, 42.29, 42.54, 42.65, 42.5, 42.29, 42.35, 42.49, 43.21, 42.81, 42.7, 43.0, 42.66, 43.0, 42.38, 42.16, 42.0, 42.0, 41.71, 42.11, 42.64, 42.72, 42.82, 42.46, 42.42, 42.28, 41.88, 42.4, 42.53, 42.12, 41.3, 41.73, 43.5, 44.9, 45.85, 45.13, 45.34, 45.25, 45.24, 44.94, 45.26, 45.16, 44.91, 44.7, 45.31, 45.57, 45.74, 45.06, 45.5, 45.6, 45.07, 44.67, 44.29, 44.94, 44.64, 44.79, 45.5, 44.67, 45.83, 45.29, 45.01, 45.73, 46.68, 47.23, 46.95, 47.29, 47.03, 47.46, 46.48, 46.9, 45.66, 46.34, 46.52, 46.5, 47.31, 46.77, 47.8, 47.01, 47.12, 46.8, 46.12, 45.22, 45.05, 45.61, 44.8, 44.8, 43.92, 43.67, 44.16, 43.74, 44.0, 45.06, 45.15, 45.09, 45.18, 43.4, 43.5, 41.83, 43.0, 42.52, 41.86, 42.2, 41.89, None, 42.17, 41.51, 41.88, 41.93, 42.01, 41.97, 42.5, 41.94, 42.24, None, None, 42.06, 42.02, 41.62, 41.46, 40.9, 40.96, 41.1, 39.5, 40.15, 39.77, 40.02, 39.39, 38.95, 38.73, 38.94, 39.01, 38.25, 41.8, 41.26, 41.47, 41.4, 41.4, 41.2, 41.4, 41.53, 41.61, 41.13, 41.5, 41.25, 41.12, 41.38, 41.19, 40.38, 39.75, 39.77, 39.72, 39.6, 38.85, 39.25, 38.8, 38.8, 38.5, 38.81, 37.37, 36.65, 36.2, 35.98, 35.56, 36.06, 36.02, 35.95, 34.75, 35.24, 35.38, 34.83, 35.07, 34.42, 34.0, 34.04, 34.54, 35.04, 35.04, 35.06, 34.85, 34.98, 35.38, 34.95, 34.8, 35.29, 34.91, 35.02, 35.48, 35.9, 34.99]\n",
      "237\n",
      "[49.86, 49.7, 48.75, 49.25, 49.2, 49.11, 49.2, 48.8, 48.39, 47.04, 46.84, 47.03, 47.05, 48.0, 48.34, 48.34, 47.21, 47.47, 46.26, 45.99, 45.97, 45.27, 46.04, 45.76, 46.41, 45.41, 45.0, 44.85, 45.0, 44.87, 45.0, 45.77, 45.96, 45.55, 45.4, 45.43, 45.29, 45.84, 45.74, 46.0, 46.05, 46.11, 44.98, 44.17, 43.56, 42.04, 42.37, 42.07, 42.06, 41.46, 41.99, 42.44, 42.27, 42.42, 42.52, 42.45, 42.73, 42.85, 42.67, 42.77, 42.55, 42.62, 42.6, 42.41, 41.9, 41.94, 41.85, 41.91, 42.14, 42.69, 42.71, 42.71, 42.26, 42.41, 42.5, 42.05, 42.28, 42.3, 41.94, 41.68, 41.81, 44.37, 44.96, 45.07, 44.97, 45.56, 45.45, 45.3, 44.97, 45.25, 45.16, 44.82, 44.61, 45.44, 45.66, 45.57, 45.0, 45.6, 45.53, 44.95, 44.95, 44.2, 44.7, 44.53, 44.62, 45.19, 44.8, 45.75, 45.44, 45.2, 45.68, 46.83, 47.21, 46.99, 47.29, 46.99, 47.37, 46.64, 46.63, 45.67, 46.33, 46.32, 46.31, 47.44, 46.27, 47.43, 47.43, 46.99, 46.52, 45.86, 46.02, 45.32, 45.3, 44.78, 44.53, 43.9, 43.84, 44.12, 43.98, 44.19, 45.31, 45.14, 44.99, 45.0, 43.28, 43.3, 42.24, 42.75, 42.5, 41.9, 42.15, 41.72, 41.72, 42.16, 41.5, 41.89, 41.81, 41.32, 41.93, 42.61, 42.0, 42.2, 42.2, 42.2, 42.2, 41.75, 41.68, 41.42, 41.05, 41.1, 40.81, 39.64, 39.98, 39.75, 40.01, 39.22, 38.85, 38.94, 38.96, 38.94, 40.98, 41.97, 41.34, 41.46, 41.25, 41.3, 41.3, 41.4, 41.4, 41.68, 41.42, 41.4, 41.18, 41.17, 41.2, 40.84, 40.39, 39.74, 39.79, 39.7, 39.45, 38.98, 39.02, 38.71, 38.72, 38.37, 38.53, 37.06, 36.25, 36.05, 35.89, 35.64, 36.1, 36.07, 35.94, 34.56, 35.15, 35.3, 34.89, 34.83, 34.22, 34.06, 34.17, 34.5, 34.9, 34.99, 35.07, 34.85, 34.9, 35.42, 34.91, 34.67, 35.04, 35.06, 35.19, 35.48, 35.8]\n"
     ]
    }
   ],
   "source": [
    "data_2017_matrix = [[row[i] for row in matrix] for i in range(length)]\n",
    "opening_prices = data_2017_matrix[1]\n",
    "closing_prices = data_2017_matrix[4]\n",
    "print(opening_prices)\n",
    "print(len(opening_prices))\n",
    "print(closing_prices)"
   ]
  },
  {
   "cell_type": "markdown",
   "metadata": {},
   "source": [
    "We can see that some opening prices are entered as **None**. We will now filter out these None values using list comprehension."
   ]
  },
  {
   "cell_type": "code",
   "execution_count": 9,
   "metadata": {},
   "outputs": [
    {
     "name": "stdout",
     "output_type": "stream",
     "text": [
      "{35.07, 41.5, 41.25, 45.2, 42.49, 42.24, 41.51, 41.26, 38.8, 34.75, 35.98, 36.65, 42.5, 38.95, 39.5, 40.9, 41.88, 42.66, 42.16, 42.11, 45.13, 42.42, 46.19, 45.58, 45.64, 42.12, 45.97, 46.2, 44.9, 45.81, 46.42, 47.3, 48.64, 49.52, 42.01, 45.73, 38.81, 41.53, 47.46, 42.52, 42.02, 44.0, 46.48, 45.24, 45.74, 41.8, 45.5, 45.25, 47.23, 41.86, 42.29, 42.54, 41.61, 45.01, 45.26, 42.3, 35.38, 46.5, 46.01, 34.91, 45.72, 45.22, 42.81, 42.06, 44.29, 44.79, 35.9, 41.83, 34.83, 34.42, 34.0, 34.04, 35.56, 47.01, 41.1, 35.95, 35.24, 36.2, 44.8, 36.06, 46.52, 46.77, 37.37, 36.02, 45.29, 38.73, 38.94, 38.25, 38.85, 39.77, 39.39, 39.01, 39.75, 39.72, 40.96, 40.15, 40.02, 40.38, 39.6, 41.3, 41.48, 41.71, 41.73, 45.05, 42.72, 42.0, 42.38, 42.82, 42.4, 43.58, 42.64, 42.28, 42.53, 42.35, 43.21, 44.51, 43.0, 43.5, 44.94, 45.85, 45.34, 45.8, 45.61, 45.36, 46.16, 46.57, 45.0, 45.88, 45.48, 47.09, 47.25, 46.29, 46.53, 47.03, 47.98, 47.65, 48.8, 48.4, 48.38, 49.09, 49.13, 49.64, 49.11, 47.29, 41.62, 41.12, 34.95, 45.57, 45.07, 47.8, 45.08, 45.83, 41.13, 41.38, 47.31, 41.89, 34.98, 45.09, 41.4, 45.6, 35.48, 34.85, 46.34, 34.99, 42.65, 45.31, 45.06, 43.4, 43.74, 44.64, 46.12, 41.93, 42.17, 41.94, 41.19, 47.12, 44.91, 44.16, 46.95, 43.92, 43.67, 45.15, 35.02, 41.2, 34.54, 45.16, 45.66, 44.67, 46.9, 41.46, 34.8, 46.8, 38.5, 42.7, 42.2, 35.04, 35.29, 41.97, 41.47, 42.46, 39.25, 45.18, 35.06, 44.7, 46.68}\n",
      "234\n"
     ]
    }
   ],
   "source": [
    "opening_prices = [i for i in opening_prices if i is not None]\n",
    "print(set(opening_prices))\n",
    "print(len(opening_prices))"
   ]
  },
  {
   "cell_type": "markdown",
   "metadata": {},
   "source": [
    "Now that we have all numerical values, we can go ahead and determine the highest and lowest opening prices"
   ]
  },
  {
   "cell_type": "code",
   "execution_count": 10,
   "metadata": {},
   "outputs": [
    {
     "name": "stdout",
     "output_type": "stream",
     "text": [
      "Highest opening price in 2017 was: $49.64\n",
      "Lowest opening price in 2017 was: $34.00\n"
     ]
    }
   ],
   "source": [
    "highest_opening_price = max(opening_prices)\n",
    "print('Highest opening price in 2017 was: ${:.2f}'.format(highest_opening_price))\n",
    "\n",
    "lowest_opening_price = min(opening_prices)\n",
    "print('Lowest opening price in 2017 was: ${:.2f}'.format(lowest_opening_price))"
   ]
  },
  {
   "cell_type": "markdown",
   "metadata": {},
   "source": [
    "**4. What was the largest change in any one day (based on High and Low price)?**\n",
    "Now we move on to the next step of determining the largest change in a single day. \n",
    "   - We will start by extracting daily high and low prices\n",
    "   - We will then calculate the daily change by subtracting these values\n",
    "   - Lastly, we will use max to determine the largest change"
   ]
  },
  {
   "cell_type": "code",
   "execution_count": 11,
   "metadata": {},
   "outputs": [
    {
     "name": "stdout",
     "output_type": "stream",
     "text": [
      "[50.49, 49.84, 49.64, 49.89, 49.73, 49.41, 49.46, 49.61, 48.59, 47.38, 47.15, 47.23, 48.01, 48.9, 48.61, 48.89, 48.06, 47.72, 46.33, 46.09, 46.04, 46.06, 46.55, 46.65, 46.42, 45.41, 45.06, 45.27, 45.34, 45.34, 45.85, 46.2, 46.06, 45.75, 45.7, 45.58, 45.97, 46.04, 46.2, 46.19, 46.09, 46.17, 44.98, 44.17, 43.56, 42.49, 42.57, 42.3, 42.38, 42.29, 42.54, 42.65, 42.63, 42.81, 42.8, 42.69, 43.34, 42.89, 42.75, 43.02, 42.71, 43.19, 42.75, 43.06, 42.08, 42.2, 41.98, 42.25, 42.64, 43.05, 43.17, 42.96, 42.76, 42.6, 43.01, 42.62, 42.53, 42.69, 41.94, 41.99, 43.5, 45.09, 46.34, 45.13, 45.54, 45.77, 45.54, 45.75, 45.29, 45.45, 45.33, 45.04, 45.31, 45.88, 45.96, 45.72, 45.55, 46.23, 45.56, 45.18, 45.05, 44.94, 45.18, 44.79, 45.5, 45.36, 45.83, 45.83, 45.74, 45.81, 46.68, 47.33, 47.63, 47.4, 47.4, 47.48, 47.43, 46.9, 46.8, 46.34, 46.86, 46.51, 47.43, 47.44, 47.8, 47.43, 47.45, 46.99, 46.52, 46.26, 46.02, 45.61, 45.36, 44.87, 44.67, 44.13, 44.22, 44.12, 44.3, 45.34, 45.36, 45.78, 45.18, 46.06, 43.6, 43.55, 43.0, 42.91, 42.5, 42.29, 42.23, 42.245, 42.25, 42.24, 41.94, 42.18, 42.02, 42.14, 42.64, 42.61, 42.4, 42.48, 42.48, 42.48, 42.45, 42.03, 41.68, 41.42, 41.25, 41.34, 40.88, 40.15, 40.07, 40.14, 40.01, 39.35, 39.1, 39.02, 39.25, 39.02, 41.83, 42.17, 41.59, 41.57, 41.5, 41.5, 41.46, 41.53, 41.61, 41.71, 41.8, 41.4, 41.22, 41.39, 41.57, 40.95, 40.64, 40.14, 39.98, 39.75, 39.57, 39.25, 39.03, 39.2, 38.93, 38.86, 39.36, 37.5, 36.25, 36.14, 36.05, 36.15, 36.2, 36.2, 36.0, 35.24, 35.59, 35.43, 35.58, 34.86, 34.35, 34.12, 34.59, 35.04, 35.51, 35.19, 35.24, 34.98, 35.38, 36.0, 34.98, 35.35, 35.21, 35.2, 35.51, 35.93, 35.94]\n",
      "[49.17, 48.28, 48.7, 49.03, 48.96, 48.87, 48.45, 48.39, 46.78, 46.54, 46.8, 46.55, 46.75, 47.84, 47.76, 47.16, 47.09, 46.42, 45.84, 45.76, 44.83, 45.18, 45.97, 45.61, 45.46, 44.91, 44.7, 44.75, 44.89, 44.76, 44.79, 45.61, 45.37, 45.3, 45.37, 45.17, 45.25, 45.57, 45.6, 45.69, 45.63, 45.22, 44.18, 43.3, 42.0, 41.78, 42.11, 41.96, 41.48, 41.39, 41.99, 42.13, 42.23, 42.25, 42.35, 42.22, 42.62, 42.56, 42.56, 42.67, 42.34, 42.55, 41.95, 42.07, 41.12, 41.49, 41.33, 41.86, 42.05, 42.63, 42.6, 42.4, 42.2, 42.01, 41.76, 41.98, 42.2, 42.01, 40.96, 41.14, 41.64, 44.15, 44.02, 44.36, 44.91, 44.9, 45.1, 44.94, 44.75, 45.15, 44.46, 44.63, 44.49, 45.04, 45.23, 44.94, 44.7, 45.29, 44.83, 44.67, 43.89, 44.08, 44.51, 44.25, 44.15, 44.44, 44.74, 45.06, 45.0, 45.11, 45.41, 46.39, 46.91, 46.79, 46.75, 46.53, 46.27, 46.25, 45.66, 45.21, 46.05, 46.03, 45.89, 46.55, 46.27, 47.01, 46.21, 46.72, 45.89, 45.22, 45.05, 45.24, 44.71, 44.29, 43.92, 43.55, 43.44, 43.74, 43.29, 44.01, 44.56, 44.31, 44.16, 43.25, 42.53, 41.82, 42.04, 42.38, 41.71, 41.78, 41.76, 41.655, 41.66, 41.51, 41.4, 41.66, 41.23, 41.01, 41.52, 41.94, 41.54, 41.985, 41.985, 41.99, 41.84, 41.53, 41.31, 40.84, 40.83, 40.79, 39.48, 39.54, 39.42, 39.42, 39.05, 38.79, 38.53, 38.6, 38.63, 37.53, 40.97, 41.26, 41.16, 41.09, 40.91, 41.2, 41.08, 41.16, 41.16, 40.95, 41.25, 40.81, 40.84, 40.76, 40.9, 40.38, 39.75, 38.91, 39.38, 39.27, 38.85, 38.81, 38.48, 38.25, 38.4, 38.0, 37.35, 36.57, 35.77, 35.84, 35.36, 35.6, 35.73, 35.7, 34.75, 34.56, 34.95, 34.81, 34.8, 34.03, 33.85, 33.62, 34.05, 34.42, 34.8, 34.79, 34.56, 34.6, 34.31, 34.84, 34.46, 34.43, 34.91, 34.73, 34.75, 35.34, 34.99]\n"
     ]
    }
   ],
   "source": [
    "high_prices = data_2017_matrix[2]\n",
    "low_prices = data_2017_matrix[3]\n",
    "\n",
    "print(high_prices)\n",
    "print(low_prices)"
   ]
  },
  {
   "cell_type": "markdown",
   "metadata": {},
   "source": [
    "After confirming we don't have any missing values, we proceed."
   ]
  },
  {
   "cell_type": "code",
   "execution_count": 12,
   "metadata": {},
   "outputs": [
    {
     "name": "stdout",
     "output_type": "stream",
     "text": [
      "[1.3200000000000003, 1.5600000000000023, 0.9399999999999977, 0.8599999999999994, 0.769999999999996]\n"
     ]
    }
   ],
   "source": [
    "daily_change = [a-b for a,b in zip(high_prices, low_prices)]\n",
    "print(daily_change[:5])"
   ]
  },
  {
   "cell_type": "code",
   "execution_count": 13,
   "metadata": {},
   "outputs": [
    {
     "name": "stdout",
     "output_type": "stream",
     "text": [
      "Largest daily change in 2017 was: $2.81\n"
     ]
    }
   ],
   "source": [
    "largest_daily_change = max(daily_change)\n",
    "print('Largest daily change in 2017 was: ${:.2f}'.format(largest_daily_change))"
   ]
  },
  {
   "cell_type": "markdown",
   "metadata": {},
   "source": [
    "**5. What was the largest change between any two days (based on Closing Price)?**\n",
    "   - We will start by extracting daily closing price\n",
    "   - We will then create a list containing difference between daily closing prices \n",
    "   - Then we determine the maximum value from that list to get the answer."
   ]
  },
  {
   "cell_type": "code",
   "execution_count": 14,
   "metadata": {},
   "outputs": [
    {
     "name": "stdout",
     "output_type": "stream",
     "text": [
      "[49.86, 49.7, 48.75, 49.25, 49.2, 49.11, 49.2, 48.8, 48.39, 47.04, 46.84, 47.03, 47.05, 48.0, 48.34, 48.34, 47.21, 47.47, 46.26, 45.99, 45.97, 45.27, 46.04, 45.76, 46.41, 45.41, 45.0, 44.85, 45.0, 44.87, 45.0, 45.77, 45.96, 45.55, 45.4, 45.43, 45.29, 45.84, 45.74, 46.0, 46.05, 46.11, 44.98, 44.17, 43.56, 42.04, 42.37, 42.07, 42.06, 41.46, 41.99, 42.44, 42.27, 42.42, 42.52, 42.45, 42.73, 42.85, 42.67, 42.77, 42.55, 42.62, 42.6, 42.41, 41.9, 41.94, 41.85, 41.91, 42.14, 42.69, 42.71, 42.71, 42.26, 42.41, 42.5, 42.05, 42.28, 42.3, 41.94, 41.68, 41.81, 44.37, 44.96, 45.07, 44.97, 45.56, 45.45, 45.3, 44.97, 45.25, 45.16, 44.82, 44.61, 45.44, 45.66, 45.57, 45.0, 45.6, 45.53, 44.95, 44.95, 44.2, 44.7, 44.53, 44.62, 45.19, 44.8, 45.75, 45.44, 45.2, 45.68, 46.83, 47.21, 46.99, 47.29, 46.99, 47.37, 46.64, 46.63, 45.67, 46.33, 46.32, 46.31, 47.44, 46.27, 47.43, 47.43, 46.99, 46.52, 45.86, 46.02, 45.32, 45.3, 44.78, 44.53, 43.9, 43.84, 44.12, 43.98, 44.19, 45.31, 45.14, 44.99, 45.0, 43.28, 43.3, 42.24, 42.75, 42.5, 41.9, 42.15, 41.72, 41.72, 42.16, 41.5, 41.89, 41.81, 41.32, 41.93, 42.61, 42.0, 42.2, 42.2, 42.2, 42.2, 41.75, 41.68, 41.42, 41.05, 41.1, 40.81, 39.64, 39.98, 39.75, 40.01, 39.22, 38.85, 38.94, 38.96, 38.94, 40.98, 41.97, 41.34, 41.46, 41.25, 41.3, 41.3, 41.4, 41.4, 41.68, 41.42, 41.4, 41.18, 41.17, 41.2, 40.84, 40.39, 39.74, 39.79, 39.7, 39.45, 38.98, 39.02, 38.71, 38.72, 38.37, 38.53, 37.06, 36.25, 36.05, 35.89, 35.64, 36.1, 36.07, 35.94, 34.56, 35.15, 35.3, 34.89, 34.83, 34.22, 34.06, 34.17, 34.5, 34.9, 34.99, 35.07, 34.85, 34.9, 35.42, 34.91, 34.67, 35.04, 35.06, 35.19, 35.48, 35.8]\n"
     ]
    }
   ],
   "source": [
    "closing_prices = data_2017_matrix[4]\n",
    "print(closing_prices)"
   ]
  },
  {
   "cell_type": "code",
   "execution_count": 15,
   "metadata": {},
   "outputs": [
    {
     "name": "stdout",
     "output_type": "stream",
     "text": [
      "[0.1599999999999966, 0.9500000000000028, -0.5, 0.04999999999999716, 0.09000000000000341]\n"
     ]
    }
   ],
   "source": [
    "two_day_change = [a-b for a,b in zip(closing_prices,closing_prices[1:])]\n",
    "print(two_day_change[:5])"
   ]
  },
  {
   "cell_type": "code",
   "execution_count": 16,
   "metadata": {},
   "outputs": [
    {
     "name": "stdout",
     "output_type": "stream",
     "text": [
      "Largest change between 2 days in 2017 was: $1.72\n"
     ]
    }
   ],
   "source": [
    "largest_two_day_change = max(two_day_change)\n",
    "print('Largest change between 2 days in 2017 was: ${:.2f}'.format(largest_two_day_change))"
   ]
  },
  {
   "cell_type": "markdown",
   "metadata": {},
   "source": [
    "**6. What was the average daily trading volume during this year?**\n",
    "   - We first extract the traded volume data\n",
    "   - And then calculate the average from this list"
   ]
  },
  {
   "cell_type": "code",
   "execution_count": 17,
   "metadata": {},
   "outputs": [
    {
     "name": "stdout",
     "output_type": "stream",
     "text": [
      "[101733.0, 123019.0, 67342.0, 42669.0, 102180.0, 50350.0, 38834.0, 91142.0, 78502.0, 97252.0, 54107.0, 89373.0, 67593.0, 67672.0, 76286.0, 90245.0, 120268.0, 94195.0, 48152.0, 60716.0, 56911.0, 37958.0, 56319.0, 56245.0, 74472.0, 56319.0, 47730.0, 43042.0, 43375.0, 55707.0, 59991.0, 45263.0, 65837.0, 49246.0, 43362.0, 49180.0, 69455.0, 65860.0, 44059.0, 66760.0, 94804.0, 115706.0, 95313.0, 99821.0, 157234.0, 76600.0, 51321.0, 56224.0, 79955.0, 105194.0, 57838.0, 65546.0, 44037.0, 107144.0, 65157.0, 68801.0, 52828.0, 103273.0, 59881.0, 64320.0, 71006.0, 66351.0, 105288.0, 151474.0, 157888.0, 97804.0, 98156.0, 47130.0, 69734.0, 65213.0, 70269.0, 95376.0, 68812.0, 72886.0, 131361.0, 104676.0, 64334.0, 127682.0, 183412.0, 175161.0, 355857.0, 156168.0, 164543.0, 96202.0, 77854.0, 187468.0, 74975.0, 62672.0, 114006.0, 50557.0, 81970.0, 112224.0, 104282.0, 73422.0, 87399.0, 71971.0, 104003.0, 104995.0, 67375.0, 82745.0, 115705.0, 90538.0, 71868.0, 47999.0, 66116.0, 48706.0, 50549.0, 71381.0, 136112.0, 134965.0, 117165.0, 82492.0, 73322.0, 80586.0, 56071.0, 89752.0, 108334.0, 70056.0, 202214.0, 101733.0, 83741.0, 107644.0, 112942.0, 99674.0, 1945.0, 1081.0, 686.0, 290.0, 106513.0, 522.0, 587.0, 112.0, 74453.0, 49970.0, 111923.0, 38308.0, 70856.0, 45.0, 166160.0, 149515.0, 101476.0, 193702.0, 159495.0, 189125.0, 91858.0, 151439.0, 97456.0, 78512.0, 82058.0, 65266.0, 86559.0, 86348.0, 86348.0, 151683.0, 65847.0, 85973.0, 102084.0, 186784.0, 223621.0, 92722.0, 133057.0, 88416.0, 88416.0, 88416.0, 158278.0, 107817.0, 62297.0, 81255.0, 96794.0, 156005.0, 193156.0, 127973.0, 95382.0, 189201.0, 335406.0, 115075.0, 191515.0, 210926.0, 169971.0, 670349.0, 56906.0, 97572.0, 90109.0, 55799.0, 60324.0, 60420.0, 44803.0, 38518.0, 43988.0, 45111.0, 61925.0, 46510.0, 40800.0, 49863.0, 86753.0, 67440.0, 62655.0, 101294.0, 81945.0, 77619.0, 46070.0, 37014.0, 60583.0, 84682.0, 77420.0, 82601.0, 177171.0, 115843.0, 67781.0, 39731.0, 67410.0, 41911.0, 40705.0, 54279.0, 85137.0, 63371.0, 69603.0, 69657.0, 64103.0, 56240.0, 48797.0, 55333.0, 80246.0, 73105.0, 65931.0, 39195.0, 47879.0, 59367.0, 163860.0, 123530.0, 43976.0, 62225.0, 27507.0, 48412.0, 54408.0, 70618.0, 44700.0]\n"
     ]
    }
   ],
   "source": [
    "trade_volume = data_2017_matrix[6]\n",
    "print(trade_volume)"
   ]
  },
  {
   "cell_type": "code",
   "execution_count": 18,
   "metadata": {},
   "outputs": [
    {
     "name": "stdout",
     "output_type": "stream",
     "text": [
      "Average daily traded volume in 2017 was: 88758.93\n"
     ]
    }
   ],
   "source": [
    "average_daily_trading_volume = sum(trade_volume)/len(trade_volume)\n",
    "print('Average daily traded volume in 2017 was: {:.2f}'.format(average_daily_trading_volume))"
   ]
  },
  {
   "cell_type": "markdown",
   "metadata": {},
   "source": [
    "**7. What was the median trading volume during this year.**\n",
    "\n",
    "In order to do this. we will create a function that takes a list as an input and returns the median as the output. We will then use this function to to calculate median trading volume."
   ]
  },
  {
   "cell_type": "code",
   "execution_count": 19,
   "metadata": {},
   "outputs": [],
   "source": [
    "def median_of_list(input_list):\n",
    "    \"\"\"Sort the list, determine the mid point.\n",
    "    For lists of even length, calculate median using average items at the middle 2 indexes.\n",
    "    For lists of odd length, calculate median using average of only the middle index taken twice.\n",
    "    \"\"\"\n",
    "    input_list.sort()\n",
    "    mid_index = len(input_list)//2    #we perform long division to obtain integer value\n",
    "    \n",
    "    mid_item1 = input_list[mid_index]     #for even lists this is the middle item on the right\n",
    "                                          #for odd lists this is the middle item\n",
    "    \n",
    "    mid_item2 = input_list[-mid_index-1]  #for even lists this is the middle item on the left\n",
    "                                          #for odd lists, this is still the middle item\n",
    "    \n",
    "    median = (mid_item1 + mid_item2) / 2  #take average to get the median\n",
    "    \n",
    "    return median"
   ]
  },
  {
   "cell_type": "code",
   "execution_count": 20,
   "metadata": {},
   "outputs": [
    {
     "name": "stdout",
     "output_type": "stream",
     "text": [
      "Median daily traded volume in 2017 was: 74472.00\n"
     ]
    }
   ],
   "source": [
    "median_daily_traded_volume = median_of_list(trade_volume)\n",
    "print('Median daily traded volume in 2017 was: {:.2f}'.format(median_daily_traded_volume))"
   ]
  }
 ],
 "metadata": {
  "kernelspec": {
   "display_name": "Python 3",
   "language": "python",
   "name": "python3"
  },
  "language_info": {
   "codemirror_mode": {
    "name": "ipython",
    "version": 3
   },
   "file_extension": ".py",
   "mimetype": "text/x-python",
   "name": "python",
   "nbconvert_exporter": "python",
   "pygments_lexer": "ipython3",
   "version": "3.7.7"
  }
 },
 "nbformat": 4,
 "nbformat_minor": 2
}
