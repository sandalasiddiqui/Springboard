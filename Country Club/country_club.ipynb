{
 "cells": [
  {
   "cell_type": "code",
   "execution_count": 19,
   "metadata": {},
   "outputs": [],
   "source": [
    "import sqlite3\n",
    "import pandas as pd"
   ]
  },
  {
   "cell_type": "code",
   "execution_count": 20,
   "metadata": {},
   "outputs": [],
   "source": [
    "conn = sqlite3.connect('cc1.sqlite')"
   ]
  },
  {
   "cell_type": "code",
   "execution_count": 21,
   "metadata": {},
   "outputs": [],
   "source": [
    "curs = conn.cursor()"
   ]
  },
  {
   "cell_type": "markdown",
   "metadata": {},
   "source": [
    "**Q10:** Produce a list of facilities with a total revenue less than 1000.\n",
    "The output of facility name and total revenue, sorted by revenue. Remember\n",
    "that there's a different cost for guests and members"
   ]
  },
  {
   "cell_type": "code",
   "execution_count": 22,
   "metadata": {},
   "outputs": [],
   "source": [
    "r1 = curs.execute(\"\"\"SELECT \n",
    "                    facility,\n",
    "                    SUM(revenue) AS total_revenue\n",
    "                    FROM (\n",
    "                        SELECT \n",
    "                            f.name as facility,\n",
    "                            (CASE WHEN b.memid = 0 THEN b.slots*f.guestcost\n",
    "                                  WHEN b.memid != 0 THEN b.slots*f.membercost\n",
    "                                  END) AS revenue\n",
    "                        FROM Facilities AS f\n",
    "                        INNER JOIN Bookings AS b\n",
    "                        USING(facid)) AS facility_revenue\n",
    "                    GROUP BY facility\n",
    "                    HAVING total_revenue < 1000\n",
    "                    ORDER BY total_revenue\"\"\")"
   ]
  },
  {
   "cell_type": "code",
   "execution_count": 23,
   "metadata": {},
   "outputs": [
    {
     "name": "stdout",
     "output_type": "stream",
     "text": [
      "        facility  total_revenue\n",
      "0   Table Tennis            180\n",
      "1  Snooker Table            240\n",
      "2     Pool Table            270\n"
     ]
    }
   ],
   "source": [
    "print(pd.DataFrame(r1.fetchall(), columns=['facility', 'total_revenue']))"
   ]
  },
  {
   "cell_type": "markdown",
   "metadata": {},
   "source": [
    "**Q11:** Produce a report of members and who recommended them in alphabetic surname,firstname order"
   ]
  },
  {
   "cell_type": "code",
   "execution_count": 27,
   "metadata": {},
   "outputs": [],
   "source": [
    "r2 = curs.execute(\"\"\"SELECT\n",
    "                        surname,\n",
    "                        firstname,\n",
    "                        recommendedby\n",
    "                    FROM Members\n",
    "                    ORDER BY surname, firstname\"\"\")"
   ]
  },
  {
   "cell_type": "code",
   "execution_count": 28,
   "metadata": {},
   "outputs": [
    {
     "name": "stdout",
     "output_type": "stream",
     "text": [
      "              surname  firstname recommendedby\n",
      "0               Bader   Florence             9\n",
      "1               Baker       Anne             9\n",
      "2               Baker    Timothy            13\n",
      "3              Boothe        Tim             3\n",
      "4             Butters     Gerald             1\n",
      "5              Coplin       Joan            16\n",
      "6             Crumpet      Erica             2\n",
      "7                Dare      Nancy             4\n",
      "8             Farrell      David              \n",
      "9             Farrell     Jemima              \n",
      "10              GUEST      GUEST              \n",
      "11            Genting    Matthew             5\n",
      "12               Hunt       John            30\n",
      "13              Jones      David             4\n",
      "14              Jones    Douglas            11\n",
      "15           Joplette     Janice             1\n",
      "16          Mackenzie       Anna             1\n",
      "17               Owen    Charles             1\n",
      "18             Pinker      David            13\n",
      "19            Purview  Millicent             2\n",
      "20             Rownam        Tim              \n",
      "21             Rumney  Henrietta            20\n",
      "22             Sarwin  Ramnaresh            15\n",
      "23              Smith     Darren              \n",
      "24              Smith     Darren              \n",
      "25              Smith       Jack             1\n",
      "26              Smith      Tracy              \n",
      "27           Stibbons     Ponder             6\n",
      "28              Tracy     Burton              \n",
      "29         Tupperware   Hyacinth              \n",
      "30  Worthington-Smyth      Henry             2\n"
     ]
    }
   ],
   "source": [
    "print(pd.DataFrame(r2.fetchall(), columns=['surname', 'firstname', 'recommendedby']))"
   ]
  },
  {
   "cell_type": "markdown",
   "metadata": {},
   "source": [
    "**Q12:** Find the facilities with their usage by member, but not guests"
   ]
  },
  {
   "cell_type": "code",
   "execution_count": 29,
   "metadata": {},
   "outputs": [],
   "source": [
    "r3 = curs.execute(\"\"\"SELECT\n",
    "                        f.name AS facility,\n",
    "                        SUM(b.slots) as total_member_bookings\n",
    "                    FROM Members AS m\n",
    "                    INNER JOIN Bookings AS b\n",
    "                    USING(memid)\n",
    "                    INNER JOIN Facilities AS f\n",
    "                    USING(facid)\n",
    "                    WHERE b.memid != 0\n",
    "                    GROUP BY facility\n",
    "                    ORDER BY total_member_bookings DESC\"\"\")"
   ]
  },
  {
   "cell_type": "code",
   "execution_count": 30,
   "metadata": {},
   "outputs": [
    {
     "name": "stdout",
     "output_type": "stream",
     "text": [
      "          facility  total_member_bookings\n",
      "0  Badminton Court                   1086\n",
      "1   Tennis Court 1                    957\n",
      "2   Massage Room 1                    884\n",
      "3   Tennis Court 2                    882\n",
      "4    Snooker Table                    860\n",
      "5       Pool Table                    856\n",
      "6     Table Tennis                    794\n",
      "7     Squash Court                    418\n",
      "8   Massage Room 2                     54\n"
     ]
    }
   ],
   "source": [
    "print(pd.DataFrame(r3.fetchall(), columns=['facility', 'total_member_bookings']))"
   ]
  },
  {
   "cell_type": "markdown",
   "metadata": {},
   "source": [
    "**Q13:** Find the facilities usage by month, but not guests"
   ]
  },
  {
   "cell_type": "code",
   "execution_count": 33,
   "metadata": {},
   "outputs": [],
   "source": [
    "r4 = curs.execute(\"\"\"SELECT\n",
    "                        f.name AS facility,\n",
    "                        strftime('%m', starttime) AS month,\n",
    "                        SUM(b.slots) as total_monthly_bookings\n",
    "                    FROM Bookings AS b\n",
    "                    INNER JOIN Facilities AS f\n",
    "                    USING(facid)\n",
    "                    WHERE b.memid != 0\n",
    "                    GROUP BY facility, month\n",
    "                    ORDER BY facility, month\"\"\")"
   ]
  },
  {
   "cell_type": "code",
   "execution_count": 34,
   "metadata": {},
   "outputs": [
    {
     "name": "stdout",
     "output_type": "stream",
     "text": [
      "           facility month  total_monthly_bookings\n",
      "0   Badminton Court    07                     165\n",
      "1   Badminton Court    08                     414\n",
      "2   Badminton Court    09                     507\n",
      "3    Massage Room 1    07                     166\n",
      "4    Massage Room 1    08                     316\n",
      "5    Massage Room 1    09                     402\n",
      "6    Massage Room 2    07                       8\n",
      "7    Massage Room 2    08                      18\n",
      "8    Massage Room 2    09                      28\n",
      "9        Pool Table    07                     110\n",
      "10       Pool Table    08                     303\n",
      "11       Pool Table    09                     443\n",
      "12    Snooker Table    07                     140\n",
      "13    Snooker Table    08                     316\n",
      "14    Snooker Table    09                     404\n",
      "15     Squash Court    07                      50\n",
      "16     Squash Court    08                     184\n",
      "17     Squash Court    09                     184\n",
      "18     Table Tennis    07                      98\n",
      "19     Table Tennis    08                     296\n",
      "20     Table Tennis    09                     400\n",
      "21   Tennis Court 1    07                     201\n",
      "22   Tennis Court 1    08                     339\n",
      "23   Tennis Court 1    09                     417\n",
      "24   Tennis Court 2    07                     123\n",
      "25   Tennis Court 2    08                     345\n",
      "26   Tennis Court 2    09                     414\n"
     ]
    }
   ],
   "source": [
    "print(pd.DataFrame(r4.fetchall(), columns=['facility', 'month', 'total_monthly_bookings']))"
   ]
  },
  {
   "cell_type": "code",
   "execution_count": null,
   "metadata": {},
   "outputs": [],
   "source": []
  }
 ],
 "metadata": {
  "kernelspec": {
   "display_name": "Python 3",
   "language": "python",
   "name": "python3"
  },
  "language_info": {
   "codemirror_mode": {
    "name": "ipython",
    "version": 3
   },
   "file_extension": ".py",
   "mimetype": "text/x-python",
   "name": "python",
   "nbconvert_exporter": "python",
   "pygments_lexer": "ipython3",
   "version": "3.7.7"
  }
 },
 "nbformat": 4,
 "nbformat_minor": 4
}
